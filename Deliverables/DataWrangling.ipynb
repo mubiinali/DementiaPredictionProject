{
 "cells": [
  {
   "cell_type": "markdown",
   "metadata": {},
   "source": [
    "<a id='top'></a>"
   ]
  },
  {
   "cell_type": "markdown",
   "metadata": {},
   "source": [
    "<a href='#import'>Import &amp; Inspect</a> |\n",
    "<a href='#fselect'>Problem Description</a> |\n",
    "<a href='#compare'>Model Comparison &amp; Selection</a> |\n",
    "<a href='#tuning'>Hyper Parameter Tuning</a> |\n",
    "<a href='#bestmodel'>Evaluate the Best Model</a> | \n",
    "<a href='#interpretation'>Interpration of Results</a> |\n",
    "<a href='#tuning'>Hyper Parameter Tuning</a> |\n",
    "<a href='#conclusion'>Conlusion and Documentation</a> |\n",
    "<a href='#discussion'>Discussion</a>\n",
    "    \n",
    "<br>\n",
    "\n",
    "---"
   ]
  },
  {
   "cell_type": "markdown",
   "metadata": {},
   "source": [
    "<a href='#top' id='import'>back to menu</a>"
   ]
  },
  {
   "cell_type": "markdown",
   "metadata": {},
   "source": [
    "## Import and Load"
   ]
  },
  {
   "cell_type": "code",
   "execution_count": 1,
   "metadata": {
    "ExecuteTime": {
     "end_time": "2019-03-27T21:47:27.529859Z",
     "start_time": "2019-03-27T21:47:26.324967Z"
    }
   },
   "outputs": [],
   "source": [
    "# Pandas and numpy for data manipulation\n",
    "import seaborn as sns\n",
    "import matplotlib.pyplot as plt\n",
    "import pandas as pd\n",
    "import numpy as np\n",
    "\n",
    "# No warnings about setting value on copy of slice\n",
    "pd.options.mode.chained_assignment = None\n",
    "\n",
    "# Display up to 60 columns of a dataframe\n",
    "pd.set_option('display.max_columns', 60)\n",
    "\n",
    "# Matplotlib visualization\n",
    "%matplotlib inline\n",
    "plt.style.use('fivethirtyeight')\n",
    "\n",
    "# Internal ipython tool for setting figure size\n",
    "\n",
    "# Seaborn for visualization\n",
    "#sns.set(font_scale = 2)\n",
    "\n",
    "# Splitting data into training and testing"
   ]
  },
  {
   "cell_type": "code",
   "execution_count": 58,
   "metadata": {
    "ExecuteTime": {
     "end_time": "2019-02-07T18:39:34.272278Z",
     "start_time": "2019-02-07T18:39:34.259768Z"
    }
   },
   "outputs": [],
   "source": [
    "file = '/Users/macos/Google Drive/ResearchImac/SPRINGBOARD/DementiaPrediction/Data/oasis_longitudinal.csv'\n",
    "long_df = pd.read_csv(file)"
   ]
  },
  {
   "cell_type": "markdown",
   "metadata": {},
   "source": [
    "### The Data\n",
    "> This dataset consists of a longitudinal collection of 150 subjects aged 60 to 96. We see data type of each feature along with non-null counts. In this longitudinal study each subject was scanned on two or more visits, separated by at least one year for a total of 373 imaging sessions. For each subject, 3 or 4 individual T1-weighted MRI scans obtained in single scan sessions are included. The subjects are all right-handed and include both men and women. 72 of the subjects were characterized as nondemented throughout the study. 64 of the included subjects were characterized as demented at the time of their initial visits and remained so for subsequent scans, including 51 individuals with mild to moderate Alzheimer’s disease. Another 14 subjects were characterized as nondemented at the time of their initial visit and were subsequently characterized as demented at a later visit."
   ]
  },
  {
   "cell_type": "code",
   "execution_count": 59,
   "metadata": {
    "ExecuteTime": {
     "end_time": "2019-02-07T18:39:34.926847Z",
     "start_time": "2019-02-07T18:39:34.922875Z"
    }
   },
   "outputs": [
    {
     "name": "stdout",
     "output_type": "stream",
     "text": [
      "Number of Subjects:  150 \n",
      "Number of Rows:  373\n"
     ]
    }
   ],
   "source": [
    "print('Number of Subjects: ',long_df['Subject ID'].nunique(),\n",
    "      '\\nNumber of Rows: ', long_df.shape[0])"
   ]
  },
  {
   "cell_type": "markdown",
   "metadata": {},
   "source": [
    "<a href='#top' id='problem'>back to menu</a>"
   ]
  },
  {
   "cell_type": "markdown",
   "metadata": {},
   "source": [
    "## Problem Description\n",
    "\n",
    "In this project, we will work with the data collected from a longitudinal study on determining cognitive functionality performance of subject. **The objective is to build a model that can classify cognitve impairment(being demented) successfully and interpret the results to find factors which influence the score.**\n",
    "\n",
    "The data includes the CDR score, which make this a supervised machine learning task. However, since the scores are to classify the stage of the dementia we will work on a supervised classification setting. In other words, our CDR score is a ordinal data so we treat this task as a classification problem to determine which class a subject falls into.\n",
    "\n",
    "While there is currently no cure for AD, early, accurate and effective detection of AD is beneficial\n",
    "for the management of the disease. Structural magnetic resonance imaging (sMRI) plays an important role in distinguishing AD subjects from normal controls (NC), and to distinguish mild cognitive impairment (MCI) subjects who\n",
    "later convert to AD from those who do not."
   ]
  },
  {
   "cell_type": "markdown",
   "metadata": {},
   "source": [
    "<a href='#top' id='aging'>back to menu</a>"
   ]
  },
  {
   "cell_type": "markdown",
   "metadata": {},
   "source": [
    "## Healthy Aging"
   ]
  },
  {
   "cell_type": "markdown",
   "metadata": {},
   "source": [
    "[Go To Healthy Aging Data]()"
   ]
  },
  {
   "cell_type": "markdown",
   "metadata": {
    "ExecuteTime": {
     "end_time": "2019-02-05T19:24:31.352854Z",
     "start_time": "2019-02-05T19:24:31.346814Z"
    }
   },
   "source": [
    "<a href='#top' id='variables'>back to menu</a>"
   ]
  },
  {
   "cell_type": "markdown",
   "metadata": {},
   "source": [
    "## Data Preprocessing and Understanding Variables"
   ]
  },
  {
   "cell_type": "markdown",
   "metadata": {},
   "source": [
    "> The need for data pre-processing is determined by the type of the model being used. Some models like tree-based models are robust to the characteristics of the predictor data. Others, like linear regression are sensitive to predictors' characteristics. For instance, in linear regression it is good to center and scale the predictors. By **centering**, we the average value is substracted from all the features so that predictors could have zero mean. **Scaling** is about standard deviation, where we divide each value of the predictor variable by its standard deviation so to improve the numerical stability of some calculations. The downside is to lose interpretability of the individual values as the data are no longer in the original units.\n",
    ">\n",
    "> If the data is **skewed**, replacing the data with *log*, *square_root*, or *inverse* may help to remove the skewness.\n",
    ">\n",
    "> **Outliers** are samples that are exceptionally far from the mainstream of the data. There are statistical techniques available to identify outliers, however, using visualization techniques helps too. *Tree based*  models are resistant to outliers because they create splits of the training data and the prediction equation is a set of logical statements such as \"if predictor A is greater than X, predict the class to be Y\", so the outlier does not usually have an exceptional influence on the model. Also SVM models for classification generally ignore a portion of the training set samples when creating a prediction equation. So the samples are disregarded may be far away from the decision boundary and outside of majority of the data.\n",
    ">\n",
    "> **Data Reduction** is another way to transform predictors before modeling processes. The goal here is to compress predictor features space such that the new feature space captures a majority of the information in the original variables. PCA is a commonly used one to reduce feature space to smaller one and to capture the most variance that still captures the necessary information in the original data. Here we want to get features that explain the most variability iin the data. We look at the component weights ti determine which predictors are most important to each Principle Component.  PCA creates components that are uncorrelated to represent the most important features. The downside is, witout proper domain knowledge of the problem being solved, to end up with irrelevant features to the problem as PCA does have any understanding of the meanings of features and the problem domain. For instance, if the original predictors are on measurement scales that differ in orders of magnitude then the first few components will focus on summarizing the higher magnitude predictors while latter components will summarize lower variance predictors. This can be thought of money values vs heigt of people.. Simply, the PCA weights will be larger for the higher variability predictors on the first few components. So to speak PCA cares about not the relationships withing the data but it cares about identifying data structure based on measurement scales.  It is best to first transform skwewed predictors and then center and scale the predictiors before PCA. Number of PCs to choose can be identified with the Cross-Validation process. Also a SCREE plot could work too."
   ]
  },
  {
   "cell_type": "code",
   "execution_count": 60,
   "metadata": {
    "ExecuteTime": {
     "end_time": "2019-02-07T18:39:37.614346Z",
     "start_time": "2019-02-07T18:39:37.600806Z"
    }
   },
   "outputs": [
    {
     "data": {
      "text/html": [
       "<div>\n",
       "<style scoped>\n",
       "    .dataframe tbody tr th:only-of-type {\n",
       "        vertical-align: middle;\n",
       "    }\n",
       "\n",
       "    .dataframe tbody tr th {\n",
       "        vertical-align: top;\n",
       "    }\n",
       "\n",
       "    .dataframe thead th {\n",
       "        text-align: right;\n",
       "    }\n",
       "</style>\n",
       "<table border=\"1\" class=\"dataframe\">\n",
       "  <thead>\n",
       "    <tr style=\"text-align: right;\">\n",
       "      <th></th>\n",
       "      <th>Subject ID</th>\n",
       "      <th>MRI ID</th>\n",
       "      <th>Group</th>\n",
       "      <th>Visit</th>\n",
       "      <th>MR Delay</th>\n",
       "      <th>M/F</th>\n",
       "      <th>Hand</th>\n",
       "      <th>Age</th>\n",
       "      <th>EDUC</th>\n",
       "      <th>SES</th>\n",
       "      <th>MMSE</th>\n",
       "      <th>CDR</th>\n",
       "      <th>eTIV</th>\n",
       "      <th>nWBV</th>\n",
       "      <th>ASF</th>\n",
       "    </tr>\n",
       "  </thead>\n",
       "  <tbody>\n",
       "    <tr>\n",
       "      <th>0</th>\n",
       "      <td>OAS2_0001</td>\n",
       "      <td>OAS2_0001_MR1</td>\n",
       "      <td>Nondemented</td>\n",
       "      <td>1</td>\n",
       "      <td>0</td>\n",
       "      <td>M</td>\n",
       "      <td>R</td>\n",
       "      <td>87</td>\n",
       "      <td>14</td>\n",
       "      <td>2.0</td>\n",
       "      <td>27.0</td>\n",
       "      <td>0.0</td>\n",
       "      <td>1987</td>\n",
       "      <td>0.696</td>\n",
       "      <td>0.883</td>\n",
       "    </tr>\n",
       "    <tr>\n",
       "      <th>1</th>\n",
       "      <td>OAS2_0001</td>\n",
       "      <td>OAS2_0001_MR2</td>\n",
       "      <td>Nondemented</td>\n",
       "      <td>2</td>\n",
       "      <td>457</td>\n",
       "      <td>M</td>\n",
       "      <td>R</td>\n",
       "      <td>88</td>\n",
       "      <td>14</td>\n",
       "      <td>2.0</td>\n",
       "      <td>30.0</td>\n",
       "      <td>0.0</td>\n",
       "      <td>2004</td>\n",
       "      <td>0.681</td>\n",
       "      <td>0.876</td>\n",
       "    </tr>\n",
       "    <tr>\n",
       "      <th>2</th>\n",
       "      <td>OAS2_0002</td>\n",
       "      <td>OAS2_0002_MR1</td>\n",
       "      <td>Demented</td>\n",
       "      <td>1</td>\n",
       "      <td>0</td>\n",
       "      <td>M</td>\n",
       "      <td>R</td>\n",
       "      <td>75</td>\n",
       "      <td>12</td>\n",
       "      <td>NaN</td>\n",
       "      <td>23.0</td>\n",
       "      <td>0.5</td>\n",
       "      <td>1678</td>\n",
       "      <td>0.736</td>\n",
       "      <td>1.046</td>\n",
       "    </tr>\n",
       "    <tr>\n",
       "      <th>3</th>\n",
       "      <td>OAS2_0002</td>\n",
       "      <td>OAS2_0002_MR2</td>\n",
       "      <td>Demented</td>\n",
       "      <td>2</td>\n",
       "      <td>560</td>\n",
       "      <td>M</td>\n",
       "      <td>R</td>\n",
       "      <td>76</td>\n",
       "      <td>12</td>\n",
       "      <td>NaN</td>\n",
       "      <td>28.0</td>\n",
       "      <td>0.5</td>\n",
       "      <td>1738</td>\n",
       "      <td>0.713</td>\n",
       "      <td>1.010</td>\n",
       "    </tr>\n",
       "    <tr>\n",
       "      <th>4</th>\n",
       "      <td>OAS2_0002</td>\n",
       "      <td>OAS2_0002_MR3</td>\n",
       "      <td>Demented</td>\n",
       "      <td>3</td>\n",
       "      <td>1895</td>\n",
       "      <td>M</td>\n",
       "      <td>R</td>\n",
       "      <td>80</td>\n",
       "      <td>12</td>\n",
       "      <td>NaN</td>\n",
       "      <td>22.0</td>\n",
       "      <td>0.5</td>\n",
       "      <td>1698</td>\n",
       "      <td>0.701</td>\n",
       "      <td>1.034</td>\n",
       "    </tr>\n",
       "  </tbody>\n",
       "</table>\n",
       "</div>"
      ],
      "text/plain": [
       "  Subject ID         MRI ID        Group  Visit  MR Delay M/F Hand  Age  EDUC  \\\n",
       "0  OAS2_0001  OAS2_0001_MR1  Nondemented      1         0   M    R   87    14   \n",
       "1  OAS2_0001  OAS2_0001_MR2  Nondemented      2       457   M    R   88    14   \n",
       "2  OAS2_0002  OAS2_0002_MR1     Demented      1         0   M    R   75    12   \n",
       "3  OAS2_0002  OAS2_0002_MR2     Demented      2       560   M    R   76    12   \n",
       "4  OAS2_0002  OAS2_0002_MR3     Demented      3      1895   M    R   80    12   \n",
       "\n",
       "   SES  MMSE  CDR  eTIV   nWBV    ASF  \n",
       "0  2.0  27.0  0.0  1987  0.696  0.883  \n",
       "1  2.0  30.0  0.0  2004  0.681  0.876  \n",
       "2  NaN  23.0  0.5  1678  0.736  1.046  \n",
       "3  NaN  28.0  0.5  1738  0.713  1.010  \n",
       "4  NaN  22.0  0.5  1698  0.701  1.034  "
      ]
     },
     "execution_count": 60,
     "metadata": {},
     "output_type": "execute_result"
    }
   ],
   "source": [
    "# Top of the data\n",
    "long_df.head()"
   ]
  },
  {
   "cell_type": "markdown",
   "metadata": {},
   "source": [
    ">Dementia is a general term for a decline in mental ability severe enough to interfere with daily life. Memory loss is an example. Dementia is not a specific disease. It’s an overall term that describes a group of symptoms associated with a decline in memory or other thinking skills severe enough to reduce a person’s ability to perform everyday activities.\n",
    ">\n",
    ">Minimum two of the followings must be significanlty impaired in a subject in order for the subject can be considered having dementia: \n",
    ">\n",
    ">- Memory,\n",
    ">- Communication and Language\n",
    ">- Ability to focus and pay attention\n",
    ">- Reasoning and judgement\n",
    ">- Visual perception\n",
    ">\n",
    ">\n",
    ">There is no one test to determine if someone has dementia. Doctors diagnose Alzheimer's and other types of dementia based on a careful medical history, a physical examination, laboratory tests, and the characteristic changes in thinking, day-to-day function and behavior associated with each type. Doctors can determine that a person has dementia with a high level of certainty. But it's harder to determine the exact type of dementia because the symptoms and brain changes of different dementias can overlap. In some cases, a doctor may diagnose \"dementia\" and not specify a type. If this occurs it may be necessary to see a specialist such as a neurologist or gero-psychologist.\n",
    "[source](https://www.alz.org/alzheimers-dementia/what-is-dementia) \n",
    ">\n",
    ">On the basis of our data we will use CDR(Clinical Dementia Rating) that is using a structured-interview protocol developed by Charles Hughes,[1] Leonard Berg, John C. Morris and other colleagues at Washington University School of Medicine, a qualified health professional assesses a patient's cognitive and functional performance.\n",
    "[source](https://en.wikipedia.org/wiki/Clinical_Dementia_Rating)\n",
    ">\n",
    ">The CDR score, a dementia staging tool,  is used to indicate the status of dementia. This tool assign a score consists of rating processes of the subject for cognitive performance in six different domains: memory, orientation, judgement and problem solving, function in community affairs, home and hobbies, and personal care. The ratings obtained from those domains are used to derive global CDR score for each subject ranging from 0 to 3 where 0 shows no indication of dementia, 0.5 represents very mild, 1 mild, 2 moderate and 3 indicates severe degree of dementia. All subjects with CDR > 0 are diagnosed with probable AD(Alzheimer's Disease hereafter). \n",
    "[source](https://www.mitpressjournals.org/doi/10.1162/jocn.2009.21407)"
   ]
  },
  {
   "cell_type": "markdown",
   "metadata": {
    "ExecuteTime": {
     "end_time": "2019-02-05T19:26:27.513735Z",
     "start_time": "2019-02-05T19:26:27.488199Z"
    }
   },
   "source": [
    "### Variables\n",
    "\n",
    ">- Subject Id\n",
    ">- MRI Id\n",
    ">- Group :Demented/Undemented/Converted)\n",
    ">- Visit :Number of visits\n",
    ">- eTIV - Estimated total intracranial volume, mm3\n",
    ">- nWBV - Normalized whole-brain volume, expressed as a percent of all voxels in the atlas-masked image that are labeled as gray or white matter by the automated tissue segmentation process\n",
    ">- ASF - Atlas scaling factor (unitless). Computed scaling factor that transforms native-space brain and skull to the atlas target (i.e., the determinant of the transform matrix)\n",
    ">\n",
    ">\n",
    ">**Demographic Data**\n",
    ">- Gender: (M/F)\n",
    ">- Hand  :(Right-handed for all subjects )\n",
    ">- Educ  : Years of education \n",
    ">- Age   : 60 to 96\n",
    ">- SES   : Socioeconomic status as assessed by the Hollingshead Index of Social Position and classified into categories from 1 (highest status) to 5 (lowest status)\n",
    ">\n",
    ">**Clinical Data**\n",
    ">- MMSE : Mini mental stage examination has range from 0 = worst to 30 = best\n",
    ">- CDR  : Clinical Dementia Rating has range 0 to 3. Above 0.5 is condisered probable AD\n",
    ">\n",
    ">\n",
    ">**MMSE**\n",
    ">\n",
    ">The Mini–Mental State Examination (MMSE) or Folstein test is a 30-point questionnaire that is used extensively in clinical and research settings to measure cognitive impairment. It is commonly used in medicine and allied health to screen for dementia. It is also used to estimate the severity and progression of cognitive impairment and to follow the course of cognitive changes in an individual over time; thus making it an effective way to document an individual’s response to treatment. The MMSE’s purpose has been not, on its own, to provide a diagnosis for any particular nosological entity.\n",
    ">\n",
    ">- MMSE score $\\geq 24$  points (out of 30) indicates a normal cognition. \n",
    ">- MMSE score $\\leq9$ points severe cognitive impairment\n",
    ">- MMSE score between  $10 - 18$  points moderate cognitive impairment\n",
    ">- MMSE score between $ 19–23  $ points mild  cognitive impairment.\n",
    ">\n",
    ">The raw score may also need to be corrected for educational attainment and age. That is, a maximal score of 30 points can never rule out dementia. Low to very low scores correlate closely with the presence of dementia, although other mental disorders can also lead to abnormal findings on MMSE testing. The presence of purely physical problems can also interfere with interpretation if not properly noted; for example, a patient may be physically unable to hear or read instructions properly, or may have a motor deficit that affects writing and drawing skills.\n",
    "Information was taken from this [source](https://en.wikipedia.org/wiki/Mini%E2%80%93Mental_State_Examination)\n",
    ">\n",
    ">**eTIV/(ICV)**\n",
    ">\n",
    ">Total intracranial volume (TIV/ICV) is an important covariate for volumetric analyses of the brain and brain regions, especially in the study of neurodegenerative diseases, where <span class=\"mark\">it can provide a proxy of maximum pre-morbid(healthy) brain volume</span> [source.](https://www.ncbi.nlm.nih.gov/pmc/articles/PMC4265726/)\n",
    "Estimated total intracranial volume (eTIV) was computed by scaling the manually measured intracranial volume of the atlas by the determinant of the affine transform connecting each individual's brain to the atlas. This method is minimally influenced and proportional to manually measured total intracranial volume[source.](https://www.mitpressjournals.org/doi/10.1162/jocn.2009.21407)\n",
    ">\n",
    ">Intracranial volume (ICV) is an important normalization measure used in morphometric analyses to correct for head size in studies of Alzheimer Disease (AD). Inaccurate ICV estimation could introduce bias in the outcome. **ICV, along with age and gender are reported as covariates to adjust for regression analyses in investigating progressive neurodegenerative brain disorders, such as Alzheimer's disease, aging and cognitive impairment** [source.](https://www.ncbi.nlm.nih.gov/pmc/articles/PMC4423585/)\n",
    ">\n",
    ">The ICV measure, sometimes referred to as total intracranial volume (TIV), refers to the estimated volume of the cranial cavity as outlined by the supratentorial dura matter or cerebral contour when dura is not clearly detectable. ICV is often used in studies involved with analysis of the cerebral structure under different imaging modalities, such as Magnetic Resonance (MR), MR and Diffusion Tensor Imaging (DTI), MR and Single-photon Emission Computed Tomography (SPECT), Ultrasound and Computed Tomography (CT). ICV consistency during aging makes it a reliable tool for correction of head size variation across subjects in studies that rely on morphological features of the brain. ICV, along with age and gender are reported as covariates to adjust for regression analyses in investigating progressive neurodegenerative brain disorders, such as Alzheimer’s disease, aging and cognitive impairment. ICV has also been utilized as an independent voxel based morphometric feature to evaluate age-related changes in the structure of premorbid brai, determine characterizing atrophy patterns in subjects with mild cognitive impairment (MCI) and Alzheimer’s disease (AD), delineate structural abnormalities in the white matter (WM) in schizophrenia, epilepsy, and gauge cognitive efficacy[source](https://www.kaggle.com/ruslankl/dementia-prediction-w-tree-based-models).\n",
    ">\n",
    ">Brain atrophy in Alzheimer's patients precedes clinical symptoms, researchers have proposed using it as a surrogate marker for pathology in clinical trials and longitudinal studies. However, not all brain volume changes indicates dementia [source.](https://www.alzforum.org/news/research-news/brain-changes-speak-volumes-about-normal-aging-and-dementia) According to the Oregon Brain Aging Study  age, dementia diagnosis, and AD pathologies closely correlated with enlargement of the brain ventricles but not with total brain volume loss (white and gray matter).\n",
    ">\n",
    ">**ASF**\n",
    ">\n",
    ">`ASF` Atlas scaling factor (the determinant of the transformation matrix from [affine registration](https://simpleelastix.readthedocs.io/AffineRegistration.html) ) which indicates the relation of size between the image and atlas."
   ]
  },
  {
   "cell_type": "code",
   "execution_count": 61,
   "metadata": {
    "ExecuteTime": {
     "end_time": "2019-02-07T18:39:39.509044Z",
     "start_time": "2019-02-07T18:39:39.457542Z"
    }
   },
   "outputs": [
    {
     "data": {
      "text/html": [
       "<div>\n",
       "<style scoped>\n",
       "    .dataframe tbody tr th:only-of-type {\n",
       "        vertical-align: middle;\n",
       "    }\n",
       "\n",
       "    .dataframe tbody tr th {\n",
       "        vertical-align: top;\n",
       "    }\n",
       "\n",
       "    .dataframe thead th {\n",
       "        text-align: right;\n",
       "    }\n",
       "</style>\n",
       "<table border=\"1\" class=\"dataframe\">\n",
       "  <thead>\n",
       "    <tr style=\"text-align: right;\">\n",
       "      <th></th>\n",
       "      <th>Subject ID</th>\n",
       "      <th>MRI ID</th>\n",
       "      <th>Group</th>\n",
       "      <th>Visit</th>\n",
       "      <th>MR Delay</th>\n",
       "      <th>M/F</th>\n",
       "      <th>Hand</th>\n",
       "      <th>Age</th>\n",
       "      <th>EDUC</th>\n",
       "      <th>SES</th>\n",
       "      <th>MMSE</th>\n",
       "      <th>CDR</th>\n",
       "      <th>eTIV</th>\n",
       "      <th>nWBV</th>\n",
       "      <th>ASF</th>\n",
       "    </tr>\n",
       "  </thead>\n",
       "  <tbody>\n",
       "    <tr>\n",
       "      <th>count</th>\n",
       "      <td>373</td>\n",
       "      <td>373</td>\n",
       "      <td>373</td>\n",
       "      <td>373.000000</td>\n",
       "      <td>373.000000</td>\n",
       "      <td>373</td>\n",
       "      <td>373</td>\n",
       "      <td>373.000000</td>\n",
       "      <td>373.000000</td>\n",
       "      <td>354.000000</td>\n",
       "      <td>371.000000</td>\n",
       "      <td>373.000000</td>\n",
       "      <td>373.000000</td>\n",
       "      <td>373.000000</td>\n",
       "      <td>373.000000</td>\n",
       "    </tr>\n",
       "    <tr>\n",
       "      <th>unique</th>\n",
       "      <td>150</td>\n",
       "      <td>373</td>\n",
       "      <td>3</td>\n",
       "      <td>NaN</td>\n",
       "      <td>NaN</td>\n",
       "      <td>2</td>\n",
       "      <td>1</td>\n",
       "      <td>NaN</td>\n",
       "      <td>NaN</td>\n",
       "      <td>NaN</td>\n",
       "      <td>NaN</td>\n",
       "      <td>NaN</td>\n",
       "      <td>NaN</td>\n",
       "      <td>NaN</td>\n",
       "      <td>NaN</td>\n",
       "    </tr>\n",
       "    <tr>\n",
       "      <th>top</th>\n",
       "      <td>OAS2_0073</td>\n",
       "      <td>OAS2_0186_MR2</td>\n",
       "      <td>Nondemented</td>\n",
       "      <td>NaN</td>\n",
       "      <td>NaN</td>\n",
       "      <td>F</td>\n",
       "      <td>R</td>\n",
       "      <td>NaN</td>\n",
       "      <td>NaN</td>\n",
       "      <td>NaN</td>\n",
       "      <td>NaN</td>\n",
       "      <td>NaN</td>\n",
       "      <td>NaN</td>\n",
       "      <td>NaN</td>\n",
       "      <td>NaN</td>\n",
       "    </tr>\n",
       "    <tr>\n",
       "      <th>freq</th>\n",
       "      <td>5</td>\n",
       "      <td>1</td>\n",
       "      <td>190</td>\n",
       "      <td>NaN</td>\n",
       "      <td>NaN</td>\n",
       "      <td>213</td>\n",
       "      <td>373</td>\n",
       "      <td>NaN</td>\n",
       "      <td>NaN</td>\n",
       "      <td>NaN</td>\n",
       "      <td>NaN</td>\n",
       "      <td>NaN</td>\n",
       "      <td>NaN</td>\n",
       "      <td>NaN</td>\n",
       "      <td>NaN</td>\n",
       "    </tr>\n",
       "    <tr>\n",
       "      <th>mean</th>\n",
       "      <td>NaN</td>\n",
       "      <td>NaN</td>\n",
       "      <td>NaN</td>\n",
       "      <td>1.882038</td>\n",
       "      <td>595.104558</td>\n",
       "      <td>NaN</td>\n",
       "      <td>NaN</td>\n",
       "      <td>77.013405</td>\n",
       "      <td>14.597855</td>\n",
       "      <td>2.460452</td>\n",
       "      <td>27.342318</td>\n",
       "      <td>0.290885</td>\n",
       "      <td>1488.128686</td>\n",
       "      <td>0.729568</td>\n",
       "      <td>1.195461</td>\n",
       "    </tr>\n",
       "    <tr>\n",
       "      <th>std</th>\n",
       "      <td>NaN</td>\n",
       "      <td>NaN</td>\n",
       "      <td>NaN</td>\n",
       "      <td>0.922843</td>\n",
       "      <td>635.485118</td>\n",
       "      <td>NaN</td>\n",
       "      <td>NaN</td>\n",
       "      <td>7.640957</td>\n",
       "      <td>2.876339</td>\n",
       "      <td>1.134005</td>\n",
       "      <td>3.683244</td>\n",
       "      <td>0.374557</td>\n",
       "      <td>176.139286</td>\n",
       "      <td>0.037135</td>\n",
       "      <td>0.138092</td>\n",
       "    </tr>\n",
       "    <tr>\n",
       "      <th>min</th>\n",
       "      <td>NaN</td>\n",
       "      <td>NaN</td>\n",
       "      <td>NaN</td>\n",
       "      <td>1.000000</td>\n",
       "      <td>0.000000</td>\n",
       "      <td>NaN</td>\n",
       "      <td>NaN</td>\n",
       "      <td>60.000000</td>\n",
       "      <td>6.000000</td>\n",
       "      <td>1.000000</td>\n",
       "      <td>4.000000</td>\n",
       "      <td>0.000000</td>\n",
       "      <td>1106.000000</td>\n",
       "      <td>0.644000</td>\n",
       "      <td>0.876000</td>\n",
       "    </tr>\n",
       "    <tr>\n",
       "      <th>25%</th>\n",
       "      <td>NaN</td>\n",
       "      <td>NaN</td>\n",
       "      <td>NaN</td>\n",
       "      <td>1.000000</td>\n",
       "      <td>0.000000</td>\n",
       "      <td>NaN</td>\n",
       "      <td>NaN</td>\n",
       "      <td>71.000000</td>\n",
       "      <td>12.000000</td>\n",
       "      <td>2.000000</td>\n",
       "      <td>27.000000</td>\n",
       "      <td>0.000000</td>\n",
       "      <td>1357.000000</td>\n",
       "      <td>0.700000</td>\n",
       "      <td>1.099000</td>\n",
       "    </tr>\n",
       "    <tr>\n",
       "      <th>50%</th>\n",
       "      <td>NaN</td>\n",
       "      <td>NaN</td>\n",
       "      <td>NaN</td>\n",
       "      <td>2.000000</td>\n",
       "      <td>552.000000</td>\n",
       "      <td>NaN</td>\n",
       "      <td>NaN</td>\n",
       "      <td>77.000000</td>\n",
       "      <td>15.000000</td>\n",
       "      <td>2.000000</td>\n",
       "      <td>29.000000</td>\n",
       "      <td>0.000000</td>\n",
       "      <td>1470.000000</td>\n",
       "      <td>0.729000</td>\n",
       "      <td>1.194000</td>\n",
       "    </tr>\n",
       "    <tr>\n",
       "      <th>75%</th>\n",
       "      <td>NaN</td>\n",
       "      <td>NaN</td>\n",
       "      <td>NaN</td>\n",
       "      <td>2.000000</td>\n",
       "      <td>873.000000</td>\n",
       "      <td>NaN</td>\n",
       "      <td>NaN</td>\n",
       "      <td>82.000000</td>\n",
       "      <td>16.000000</td>\n",
       "      <td>3.000000</td>\n",
       "      <td>30.000000</td>\n",
       "      <td>0.500000</td>\n",
       "      <td>1597.000000</td>\n",
       "      <td>0.756000</td>\n",
       "      <td>1.293000</td>\n",
       "    </tr>\n",
       "    <tr>\n",
       "      <th>max</th>\n",
       "      <td>NaN</td>\n",
       "      <td>NaN</td>\n",
       "      <td>NaN</td>\n",
       "      <td>5.000000</td>\n",
       "      <td>2639.000000</td>\n",
       "      <td>NaN</td>\n",
       "      <td>NaN</td>\n",
       "      <td>98.000000</td>\n",
       "      <td>23.000000</td>\n",
       "      <td>5.000000</td>\n",
       "      <td>30.000000</td>\n",
       "      <td>2.000000</td>\n",
       "      <td>2004.000000</td>\n",
       "      <td>0.837000</td>\n",
       "      <td>1.587000</td>\n",
       "    </tr>\n",
       "  </tbody>\n",
       "</table>\n",
       "</div>"
      ],
      "text/plain": [
       "       Subject ID         MRI ID        Group       Visit     MR Delay  M/F  \\\n",
       "count         373            373          373  373.000000   373.000000  373   \n",
       "unique        150            373            3         NaN          NaN    2   \n",
       "top     OAS2_0073  OAS2_0186_MR2  Nondemented         NaN          NaN    F   \n",
       "freq            5              1          190         NaN          NaN  213   \n",
       "mean          NaN            NaN          NaN    1.882038   595.104558  NaN   \n",
       "std           NaN            NaN          NaN    0.922843   635.485118  NaN   \n",
       "min           NaN            NaN          NaN    1.000000     0.000000  NaN   \n",
       "25%           NaN            NaN          NaN    1.000000     0.000000  NaN   \n",
       "50%           NaN            NaN          NaN    2.000000   552.000000  NaN   \n",
       "75%           NaN            NaN          NaN    2.000000   873.000000  NaN   \n",
       "max           NaN            NaN          NaN    5.000000  2639.000000  NaN   \n",
       "\n",
       "       Hand         Age        EDUC         SES        MMSE         CDR  \\\n",
       "count   373  373.000000  373.000000  354.000000  371.000000  373.000000   \n",
       "unique    1         NaN         NaN         NaN         NaN         NaN   \n",
       "top       R         NaN         NaN         NaN         NaN         NaN   \n",
       "freq    373         NaN         NaN         NaN         NaN         NaN   \n",
       "mean    NaN   77.013405   14.597855    2.460452   27.342318    0.290885   \n",
       "std     NaN    7.640957    2.876339    1.134005    3.683244    0.374557   \n",
       "min     NaN   60.000000    6.000000    1.000000    4.000000    0.000000   \n",
       "25%     NaN   71.000000   12.000000    2.000000   27.000000    0.000000   \n",
       "50%     NaN   77.000000   15.000000    2.000000   29.000000    0.000000   \n",
       "75%     NaN   82.000000   16.000000    3.000000   30.000000    0.500000   \n",
       "max     NaN   98.000000   23.000000    5.000000   30.000000    2.000000   \n",
       "\n",
       "               eTIV        nWBV         ASF  \n",
       "count    373.000000  373.000000  373.000000  \n",
       "unique          NaN         NaN         NaN  \n",
       "top             NaN         NaN         NaN  \n",
       "freq            NaN         NaN         NaN  \n",
       "mean    1488.128686    0.729568    1.195461  \n",
       "std      176.139286    0.037135    0.138092  \n",
       "min     1106.000000    0.644000    0.876000  \n",
       "25%     1357.000000    0.700000    1.099000  \n",
       "50%     1470.000000    0.729000    1.194000  \n",
       "75%     1597.000000    0.756000    1.293000  \n",
       "max     2004.000000    0.837000    1.587000  "
      ]
     },
     "execution_count": 61,
     "metadata": {},
     "output_type": "execute_result"
    }
   ],
   "source": [
    "long_df.describe(include='all')"
   ]
  },
  {
   "cell_type": "markdown",
   "metadata": {},
   "source": [
    "### Data Cleaning"
   ]
  },
  {
   "cell_type": "code",
   "execution_count": 62,
   "metadata": {
    "ExecuteTime": {
     "end_time": "2019-02-07T18:39:41.039046Z",
     "start_time": "2019-02-07T18:39:41.031910Z"
    }
   },
   "outputs": [
    {
     "name": "stdout",
     "output_type": "stream",
     "text": [
      "<class 'pandas.core.frame.DataFrame'>\n",
      "RangeIndex: 373 entries, 0 to 372\n",
      "Data columns (total 15 columns):\n",
      "Subject ID    373 non-null object\n",
      "MRI ID        373 non-null object\n",
      "Group         373 non-null object\n",
      "Visit         373 non-null int64\n",
      "MR Delay      373 non-null int64\n",
      "M/F           373 non-null object\n",
      "Hand          373 non-null object\n",
      "Age           373 non-null int64\n",
      "EDUC          373 non-null int64\n",
      "SES           354 non-null float64\n",
      "MMSE          371 non-null float64\n",
      "CDR           373 non-null float64\n",
      "eTIV          373 non-null int64\n",
      "nWBV          373 non-null float64\n",
      "ASF           373 non-null float64\n",
      "dtypes: float64(5), int64(5), object(5)\n",
      "memory usage: 43.8+ KB\n"
     ]
    }
   ],
   "source": [
    "long_df.info()"
   ]
  },
  {
   "cell_type": "code",
   "execution_count": 63,
   "metadata": {
    "ExecuteTime": {
     "end_time": "2019-02-07T18:39:41.553878Z",
     "start_time": "2019-02-07T18:39:41.538324Z"
    }
   },
   "outputs": [
    {
     "name": "stdout",
     "output_type": "stream",
     "text": [
      "\n",
      "The DataFrame has 15 columns.\n",
      "There are 15 columns that have missing values\n"
     ]
    },
    {
     "data": {
      "text/html": [
       "<div>\n",
       "<style scoped>\n",
       "    .dataframe tbody tr th:only-of-type {\n",
       "        vertical-align: middle;\n",
       "    }\n",
       "\n",
       "    .dataframe tbody tr th {\n",
       "        vertical-align: top;\n",
       "    }\n",
       "\n",
       "    .dataframe thead th {\n",
       "        text-align: right;\n",
       "    }\n",
       "</style>\n",
       "<table border=\"1\" class=\"dataframe\">\n",
       "  <thead>\n",
       "    <tr style=\"text-align: right;\">\n",
       "      <th></th>\n",
       "      <th>Missing Values</th>\n",
       "      <th>% of Total Values</th>\n",
       "    </tr>\n",
       "  </thead>\n",
       "  <tbody>\n",
       "    <tr>\n",
       "      <th>SES</th>\n",
       "      <td>19</td>\n",
       "      <td>5.093834</td>\n",
       "    </tr>\n",
       "    <tr>\n",
       "      <th>MMSE</th>\n",
       "      <td>2</td>\n",
       "      <td>0.536193</td>\n",
       "    </tr>\n",
       "    <tr>\n",
       "      <th>Subject ID</th>\n",
       "      <td>0</td>\n",
       "      <td>0.000000</td>\n",
       "    </tr>\n",
       "    <tr>\n",
       "      <th>MRI ID</th>\n",
       "      <td>0</td>\n",
       "      <td>0.000000</td>\n",
       "    </tr>\n",
       "    <tr>\n",
       "      <th>Group</th>\n",
       "      <td>0</td>\n",
       "      <td>0.000000</td>\n",
       "    </tr>\n",
       "    <tr>\n",
       "      <th>Visit</th>\n",
       "      <td>0</td>\n",
       "      <td>0.000000</td>\n",
       "    </tr>\n",
       "    <tr>\n",
       "      <th>MR Delay</th>\n",
       "      <td>0</td>\n",
       "      <td>0.000000</td>\n",
       "    </tr>\n",
       "    <tr>\n",
       "      <th>M/F</th>\n",
       "      <td>0</td>\n",
       "      <td>0.000000</td>\n",
       "    </tr>\n",
       "    <tr>\n",
       "      <th>Hand</th>\n",
       "      <td>0</td>\n",
       "      <td>0.000000</td>\n",
       "    </tr>\n",
       "    <tr>\n",
       "      <th>Age</th>\n",
       "      <td>0</td>\n",
       "      <td>0.000000</td>\n",
       "    </tr>\n",
       "    <tr>\n",
       "      <th>EDUC</th>\n",
       "      <td>0</td>\n",
       "      <td>0.000000</td>\n",
       "    </tr>\n",
       "    <tr>\n",
       "      <th>CDR</th>\n",
       "      <td>0</td>\n",
       "      <td>0.000000</td>\n",
       "    </tr>\n",
       "    <tr>\n",
       "      <th>eTIV</th>\n",
       "      <td>0</td>\n",
       "      <td>0.000000</td>\n",
       "    </tr>\n",
       "    <tr>\n",
       "      <th>nWBV</th>\n",
       "      <td>0</td>\n",
       "      <td>0.000000</td>\n",
       "    </tr>\n",
       "    <tr>\n",
       "      <th>ASF</th>\n",
       "      <td>0</td>\n",
       "      <td>0.000000</td>\n",
       "    </tr>\n",
       "  </tbody>\n",
       "</table>\n",
       "</div>"
      ],
      "text/plain": [
       "            Missing Values  % of Total Values\n",
       "SES                     19           5.093834\n",
       "MMSE                     2           0.536193\n",
       "Subject ID               0           0.000000\n",
       "MRI ID                   0           0.000000\n",
       "Group                    0           0.000000\n",
       "Visit                    0           0.000000\n",
       "MR Delay                 0           0.000000\n",
       "M/F                      0           0.000000\n",
       "Hand                     0           0.000000\n",
       "Age                      0           0.000000\n",
       "EDUC                     0           0.000000\n",
       "CDR                      0           0.000000\n",
       "eTIV                     0           0.000000\n",
       "nWBV                     0           0.000000\n",
       "ASF                      0           0.000000"
      ]
     },
     "execution_count": 63,
     "metadata": {},
     "output_type": "execute_result"
    }
   ],
   "source": [
    "def missing_values_table(df):\n",
    "    '''Calculate Missing Values of Each Column'''\n",
    "    # Total missing amount in each feature /series type\n",
    "    missing_value = df.isnull().sum()\n",
    "\n",
    "    # Percentage of that missing values in its column /series type\n",
    "    miss_percent = 100*missing_value/df.shape[0]\n",
    "\n",
    "    # Make a table of calculated fields /will make dataframe\n",
    "    table = pd.concat([missing_value, miss_percent], axis=1).rename(\n",
    "        columns={0: 'Missing Values', 1: '% of Total Values'})\n",
    "\n",
    "    # Sort by percentages column\n",
    "    table.sort_values(by=['% of Total Values'], ascending=False,\n",
    "                      inplace=True)\n",
    "\n",
    "    # Print Summary Information\n",
    "    print('\\nThe DataFrame has ' + str(df.shape[1]) + ' columns.\\n'\n",
    "          'There are ' + str(table.shape[0]) + ' columns that have missing values')\n",
    "\n",
    "    return table\n",
    "\n",
    "\n",
    "missing_values_table(long_df)\n"
   ]
  },
  {
   "cell_type": "markdown",
   "metadata": {},
   "source": [
    ">The table shows a proportion value indicating how empty the columns are. Credits: [Will Koehrsen](https://github.com/WillKoehrsen/machine-learning-project-walkthrough/blob/master/Machine%20Learning%20Project%20Part%201.ipynb)\n",
    ">\n",
    "> Our data is prety much clean already. All we can do at this point is to fill in missing values present in `SES` and `MMSE` with an appropriate tecnique.\n",
    ">\n",
    "> Here `MMSE` is a 30-point questionnaire so the most likely situation is that a subject might have not taken the test. The least likely case might be a staff loosing the questionnaire. This case is "
   ]
  },
  {
   "cell_type": "code",
   "execution_count": 64,
   "metadata": {
    "ExecuteTime": {
     "end_time": "2019-02-07T18:39:43.186329Z",
     "start_time": "2019-02-07T18:39:43.181396Z"
    }
   },
   "outputs": [
    {
     "name": "stdout",
     "output_type": "stream",
     "text": [
      "The total number of missing values at each column : \n",
      "Subject ID     0\n",
      "MRI ID         0\n",
      "Group          0\n",
      "Visit          0\n",
      "MR Delay       0\n",
      "M/F            0\n",
      "Hand           0\n",
      "Age            0\n",
      "EDUC           0\n",
      "SES           19\n",
      "MMSE           2\n",
      "CDR            0\n",
      "eTIV           0\n",
      "nWBV           0\n",
      "ASF            0\n",
      "dtype: int64\n"
     ]
    }
   ],
   "source": [
    "print('The total number of missing values at each column : \\n' + str( long_df.isnull().sum()))"
   ]
  },
  {
   "cell_type": "code",
   "execution_count": 65,
   "metadata": {
    "ExecuteTime": {
     "end_time": "2019-02-07T18:39:43.931777Z",
     "start_time": "2019-02-07T18:39:43.675617Z"
    }
   },
   "outputs": [
    {
     "data": {
      "image/png": "[encoded data removed]",
      "text/plain": [
       "<Figure size 864x576 with 1 Axes>"
      ]
     },
     "metadata": {},
     "output_type": "display_data"
    }
   ],
   "source": [
    "plt.style.use('fivethirtyeight')\n",
    "long_df['MMSE'].plot(kind='hist', figsize=(12,8))\n",
    "plt.xlabel('MMSE SCORES');"
   ]
  },
  {
   "cell_type": "code",
   "execution_count": 66,
   "metadata": {
    "ExecuteTime": {
     "end_time": "2019-02-07T18:39:44.972709Z",
     "start_time": "2019-02-07T18:39:44.744214Z"
    }
   },
   "outputs": [
    {
     "data": {
      "image/png": "[encoded data removed]",
      "text/plain": [
       "<Figure size 864x576 with 1 Axes>"
      ]
     },
     "metadata": {},
     "output_type": "display_data"
    }
   ],
   "source": [
    "plt.figure(figsize=(12,8))\n",
    "sns.countplot(x=long_df['SES'])\n",
    "plt.xlabel('Socioeconomical Level')\n",
    "plt.title('Lower Level High Stand');"
   ]
  },
  {
   "cell_type": "markdown",
   "metadata": {},
   "source": [
    "> Handling missing data is a tedious task. There are severeal methods in statistics but in general we call this process imputation. Missing data can cause multiple problems in statistical modelin process such as introducing significant bias and reductions in efficiency. Therefore, imputation is a way to avoid problems may arise from listwise deletion of missing values.\n",
    "> \n",
    ">Three main methods are:\n",
    ">- Listwise deletion\n",
    ">- Single Imputation\n",
    ">     - Hot Deck -a missing value was imputed from a randomly selected similar record\n",
    ">     - Cold Deck -selects donors from another dataset\n",
    ">     - Mean Substitution\n",
    ">     - Median Substitution\n",
    ">     - Regression -available information for complete and incomplete cases is used to predict the value of a specific variable\n",
    ">     \n",
    ">- Multiple Imputation\n",
    "\n",
    "\n",
    "\n",
    "**Multiple Imputation**\n",
    "Multiple imputation can be used in cases where the data is missing completely, missing at random, and even when the data is missing not at random. However, the primary method of multiple imputation is multiple imputation by chained equations (MICE).An important thing to note is that MICE should be implemented only when the missing data follow the missing at random mechanism. \n",
    "\n",
    "There are three assumptions on why the data is missing, Missing At Random, Missing Not at Random and Missing Completely at Random. In our case, MMSE and SES was supposed to collected from a subject during interviews and now let's take a look at other variables to determine our assumtion on why the data is not available. After analysing the table below, we might assume that the unavailable data in `SES` column is missing mostly like because subjects did not want to declare their financial statue as you can see most of them high school graduates. This type of missing data goes under `Missing Not at Random` as the subjects seem to choose not giving that information. As for the missing values in `MMSE`, there are only two subjects who are also missed giving `SES` information whereas others who did not report their finances were able take the test. These two subjects look like Missing Completely At Random. Identifying these assumptions could help analyst in choosing the method to deal with those missing values in data. \n",
    "\n",
    "\n",
    "Information was taken from [Wikipedia](https://en.wikipedia.org/wiki/Imputation_%28statistics%29#Multiple_imputation)"
   ]
  },
  {
   "cell_type": "code",
   "execution_count": 67,
   "metadata": {
    "ExecuteTime": {
     "end_time": "2019-02-07T18:39:51.112091Z",
     "start_time": "2019-02-07T18:39:51.090769Z"
    }
   },
   "outputs": [
    {
     "data": {
      "text/html": [
       "<div>\n",
       "<style scoped>\n",
       "    .dataframe tbody tr th:only-of-type {\n",
       "        vertical-align: middle;\n",
       "    }\n",
       "\n",
       "    .dataframe tbody tr th {\n",
       "        vertical-align: top;\n",
       "    }\n",
       "\n",
       "    .dataframe thead th {\n",
       "        text-align: right;\n",
       "    }\n",
       "</style>\n",
       "<table border=\"1\" class=\"dataframe\">\n",
       "  <thead>\n",
       "    <tr style=\"text-align: right;\">\n",
       "      <th></th>\n",
       "      <th>Subject ID</th>\n",
       "      <th>MRI ID</th>\n",
       "      <th>Group</th>\n",
       "      <th>Visit</th>\n",
       "      <th>MR Delay</th>\n",
       "      <th>M/F</th>\n",
       "      <th>Hand</th>\n",
       "      <th>Age</th>\n",
       "      <th>EDUC</th>\n",
       "      <th>SES</th>\n",
       "      <th>MMSE</th>\n",
       "      <th>CDR</th>\n",
       "      <th>eTIV</th>\n",
       "      <th>nWBV</th>\n",
       "      <th>ASF</th>\n",
       "    </tr>\n",
       "  </thead>\n",
       "  <tbody>\n",
       "    <tr>\n",
       "      <th>2</th>\n",
       "      <td>OAS2_0002</td>\n",
       "      <td>OAS2_0002_MR1</td>\n",
       "      <td>Demented</td>\n",
       "      <td>1</td>\n",
       "      <td>0</td>\n",
       "      <td>M</td>\n",
       "      <td>R</td>\n",
       "      <td>75</td>\n",
       "      <td>12</td>\n",
       "      <td>NaN</td>\n",
       "      <td>23.0</td>\n",
       "      <td>0.5</td>\n",
       "      <td>1678</td>\n",
       "      <td>0.736</td>\n",
       "      <td>1.046</td>\n",
       "    </tr>\n",
       "    <tr>\n",
       "      <th>3</th>\n",
       "      <td>OAS2_0002</td>\n",
       "      <td>OAS2_0002_MR2</td>\n",
       "      <td>Demented</td>\n",
       "      <td>2</td>\n",
       "      <td>560</td>\n",
       "      <td>M</td>\n",
       "      <td>R</td>\n",
       "      <td>76</td>\n",
       "      <td>12</td>\n",
       "      <td>NaN</td>\n",
       "      <td>28.0</td>\n",
       "      <td>0.5</td>\n",
       "      <td>1738</td>\n",
       "      <td>0.713</td>\n",
       "      <td>1.010</td>\n",
       "    </tr>\n",
       "    <tr>\n",
       "      <th>4</th>\n",
       "      <td>OAS2_0002</td>\n",
       "      <td>OAS2_0002_MR3</td>\n",
       "      <td>Demented</td>\n",
       "      <td>3</td>\n",
       "      <td>1895</td>\n",
       "      <td>M</td>\n",
       "      <td>R</td>\n",
       "      <td>80</td>\n",
       "      <td>12</td>\n",
       "      <td>NaN</td>\n",
       "      <td>22.0</td>\n",
       "      <td>0.5</td>\n",
       "      <td>1698</td>\n",
       "      <td>0.701</td>\n",
       "      <td>1.034</td>\n",
       "    </tr>\n",
       "    <tr>\n",
       "      <th>10</th>\n",
       "      <td>OAS2_0007</td>\n",
       "      <td>OAS2_0007_MR1</td>\n",
       "      <td>Demented</td>\n",
       "      <td>1</td>\n",
       "      <td>0</td>\n",
       "      <td>M</td>\n",
       "      <td>R</td>\n",
       "      <td>71</td>\n",
       "      <td>16</td>\n",
       "      <td>NaN</td>\n",
       "      <td>28.0</td>\n",
       "      <td>0.5</td>\n",
       "      <td>1357</td>\n",
       "      <td>0.748</td>\n",
       "      <td>1.293</td>\n",
       "    </tr>\n",
       "    <tr>\n",
       "      <th>11</th>\n",
       "      <td>OAS2_0007</td>\n",
       "      <td>OAS2_0007_MR3</td>\n",
       "      <td>Demented</td>\n",
       "      <td>3</td>\n",
       "      <td>518</td>\n",
       "      <td>M</td>\n",
       "      <td>R</td>\n",
       "      <td>73</td>\n",
       "      <td>16</td>\n",
       "      <td>NaN</td>\n",
       "      <td>27.0</td>\n",
       "      <td>1.0</td>\n",
       "      <td>1365</td>\n",
       "      <td>0.727</td>\n",
       "      <td>1.286</td>\n",
       "    </tr>\n",
       "    <tr>\n",
       "      <th>12</th>\n",
       "      <td>OAS2_0007</td>\n",
       "      <td>OAS2_0007_MR4</td>\n",
       "      <td>Demented</td>\n",
       "      <td>4</td>\n",
       "      <td>1281</td>\n",
       "      <td>M</td>\n",
       "      <td>R</td>\n",
       "      <td>75</td>\n",
       "      <td>16</td>\n",
       "      <td>NaN</td>\n",
       "      <td>27.0</td>\n",
       "      <td>1.0</td>\n",
       "      <td>1372</td>\n",
       "      <td>0.710</td>\n",
       "      <td>1.279</td>\n",
       "    </tr>\n",
       "    <tr>\n",
       "      <th>134</th>\n",
       "      <td>OAS2_0063</td>\n",
       "      <td>OAS2_0063_MR1</td>\n",
       "      <td>Demented</td>\n",
       "      <td>1</td>\n",
       "      <td>0</td>\n",
       "      <td>F</td>\n",
       "      <td>R</td>\n",
       "      <td>80</td>\n",
       "      <td>12</td>\n",
       "      <td>NaN</td>\n",
       "      <td>30.0</td>\n",
       "      <td>0.5</td>\n",
       "      <td>1430</td>\n",
       "      <td>0.737</td>\n",
       "      <td>1.228</td>\n",
       "    </tr>\n",
       "    <tr>\n",
       "      <th>135</th>\n",
       "      <td>OAS2_0063</td>\n",
       "      <td>OAS2_0063_MR2</td>\n",
       "      <td>Demented</td>\n",
       "      <td>2</td>\n",
       "      <td>490</td>\n",
       "      <td>F</td>\n",
       "      <td>R</td>\n",
       "      <td>81</td>\n",
       "      <td>12</td>\n",
       "      <td>NaN</td>\n",
       "      <td>27.0</td>\n",
       "      <td>0.5</td>\n",
       "      <td>1453</td>\n",
       "      <td>0.721</td>\n",
       "      <td>1.208</td>\n",
       "    </tr>\n",
       "    <tr>\n",
       "      <th>207</th>\n",
       "      <td>OAS2_0099</td>\n",
       "      <td>OAS2_0099_MR1</td>\n",
       "      <td>Demented</td>\n",
       "      <td>1</td>\n",
       "      <td>0</td>\n",
       "      <td>F</td>\n",
       "      <td>R</td>\n",
       "      <td>80</td>\n",
       "      <td>12</td>\n",
       "      <td>NaN</td>\n",
       "      <td>27.0</td>\n",
       "      <td>0.5</td>\n",
       "      <td>1475</td>\n",
       "      <td>0.762</td>\n",
       "      <td>1.190</td>\n",
       "    </tr>\n",
       "    <tr>\n",
       "      <th>208</th>\n",
       "      <td>OAS2_0099</td>\n",
       "      <td>OAS2_0099_MR2</td>\n",
       "      <td>Demented</td>\n",
       "      <td>2</td>\n",
       "      <td>807</td>\n",
       "      <td>F</td>\n",
       "      <td>R</td>\n",
       "      <td>83</td>\n",
       "      <td>12</td>\n",
       "      <td>NaN</td>\n",
       "      <td>23.0</td>\n",
       "      <td>0.5</td>\n",
       "      <td>1484</td>\n",
       "      <td>0.750</td>\n",
       "      <td>1.183</td>\n",
       "    </tr>\n",
       "    <tr>\n",
       "      <th>237</th>\n",
       "      <td>OAS2_0114</td>\n",
       "      <td>OAS2_0114_MR1</td>\n",
       "      <td>Demented</td>\n",
       "      <td>1</td>\n",
       "      <td>0</td>\n",
       "      <td>F</td>\n",
       "      <td>R</td>\n",
       "      <td>76</td>\n",
       "      <td>12</td>\n",
       "      <td>NaN</td>\n",
       "      <td>27.0</td>\n",
       "      <td>0.5</td>\n",
       "      <td>1316</td>\n",
       "      <td>0.727</td>\n",
       "      <td>1.333</td>\n",
       "    </tr>\n",
       "    <tr>\n",
       "      <th>238</th>\n",
       "      <td>OAS2_0114</td>\n",
       "      <td>OAS2_0114_MR2</td>\n",
       "      <td>Demented</td>\n",
       "      <td>2</td>\n",
       "      <td>570</td>\n",
       "      <td>F</td>\n",
       "      <td>R</td>\n",
       "      <td>78</td>\n",
       "      <td>12</td>\n",
       "      <td>NaN</td>\n",
       "      <td>27.0</td>\n",
       "      <td>1.0</td>\n",
       "      <td>1309</td>\n",
       "      <td>0.709</td>\n",
       "      <td>1.341</td>\n",
       "    </tr>\n",
       "    <tr>\n",
       "      <th>322</th>\n",
       "      <td>OAS2_0160</td>\n",
       "      <td>OAS2_0160_MR1</td>\n",
       "      <td>Demented</td>\n",
       "      <td>1</td>\n",
       "      <td>0</td>\n",
       "      <td>M</td>\n",
       "      <td>R</td>\n",
       "      <td>76</td>\n",
       "      <td>12</td>\n",
       "      <td>NaN</td>\n",
       "      <td>27.0</td>\n",
       "      <td>0.5</td>\n",
       "      <td>1557</td>\n",
       "      <td>0.705</td>\n",
       "      <td>1.127</td>\n",
       "    </tr>\n",
       "    <tr>\n",
       "      <th>323</th>\n",
       "      <td>OAS2_0160</td>\n",
       "      <td>OAS2_0160_MR2</td>\n",
       "      <td>Demented</td>\n",
       "      <td>2</td>\n",
       "      <td>552</td>\n",
       "      <td>M</td>\n",
       "      <td>R</td>\n",
       "      <td>78</td>\n",
       "      <td>12</td>\n",
       "      <td>NaN</td>\n",
       "      <td>29.0</td>\n",
       "      <td>1.0</td>\n",
       "      <td>1569</td>\n",
       "      <td>0.704</td>\n",
       "      <td>1.119</td>\n",
       "    </tr>\n",
       "    <tr>\n",
       "      <th>356</th>\n",
       "      <td>OAS2_0181</td>\n",
       "      <td>OAS2_0181_MR1</td>\n",
       "      <td>Demented</td>\n",
       "      <td>1</td>\n",
       "      <td>0</td>\n",
       "      <td>F</td>\n",
       "      <td>R</td>\n",
       "      <td>74</td>\n",
       "      <td>12</td>\n",
       "      <td>NaN</td>\n",
       "      <td>26.0</td>\n",
       "      <td>0.5</td>\n",
       "      <td>1171</td>\n",
       "      <td>0.733</td>\n",
       "      <td>1.499</td>\n",
       "    </tr>\n",
       "    <tr>\n",
       "      <th>357</th>\n",
       "      <td>OAS2_0181</td>\n",
       "      <td>OAS2_0181_MR2</td>\n",
       "      <td>Demented</td>\n",
       "      <td>2</td>\n",
       "      <td>539</td>\n",
       "      <td>F</td>\n",
       "      <td>R</td>\n",
       "      <td>75</td>\n",
       "      <td>12</td>\n",
       "      <td>NaN</td>\n",
       "      <td>NaN</td>\n",
       "      <td>1.0</td>\n",
       "      <td>1169</td>\n",
       "      <td>0.742</td>\n",
       "      <td>1.501</td>\n",
       "    </tr>\n",
       "    <tr>\n",
       "      <th>358</th>\n",
       "      <td>OAS2_0181</td>\n",
       "      <td>OAS2_0181_MR3</td>\n",
       "      <td>Demented</td>\n",
       "      <td>3</td>\n",
       "      <td>1107</td>\n",
       "      <td>F</td>\n",
       "      <td>R</td>\n",
       "      <td>77</td>\n",
       "      <td>12</td>\n",
       "      <td>NaN</td>\n",
       "      <td>NaN</td>\n",
       "      <td>1.0</td>\n",
       "      <td>1159</td>\n",
       "      <td>0.733</td>\n",
       "      <td>1.515</td>\n",
       "    </tr>\n",
       "    <tr>\n",
       "      <th>359</th>\n",
       "      <td>OAS2_0182</td>\n",
       "      <td>OAS2_0182_MR1</td>\n",
       "      <td>Demented</td>\n",
       "      <td>1</td>\n",
       "      <td>0</td>\n",
       "      <td>M</td>\n",
       "      <td>R</td>\n",
       "      <td>73</td>\n",
       "      <td>12</td>\n",
       "      <td>NaN</td>\n",
       "      <td>23.0</td>\n",
       "      <td>0.5</td>\n",
       "      <td>1661</td>\n",
       "      <td>0.698</td>\n",
       "      <td>1.056</td>\n",
       "    </tr>\n",
       "    <tr>\n",
       "      <th>360</th>\n",
       "      <td>OAS2_0182</td>\n",
       "      <td>OAS2_0182_MR2</td>\n",
       "      <td>Demented</td>\n",
       "      <td>2</td>\n",
       "      <td>776</td>\n",
       "      <td>M</td>\n",
       "      <td>R</td>\n",
       "      <td>75</td>\n",
       "      <td>12</td>\n",
       "      <td>NaN</td>\n",
       "      <td>20.0</td>\n",
       "      <td>0.5</td>\n",
       "      <td>1654</td>\n",
       "      <td>0.696</td>\n",
       "      <td>1.061</td>\n",
       "    </tr>\n",
       "  </tbody>\n",
       "</table>\n",
       "</div>"
      ],
      "text/plain": [
       "    Subject ID         MRI ID     Group  Visit  MR Delay M/F Hand  Age  EDUC  \\\n",
       "2    OAS2_0002  OAS2_0002_MR1  Demented      1         0   M    R   75    12   \n",
       "3    OAS2_0002  OAS2_0002_MR2  Demented      2       560   M    R   76    12   \n",
       "4    OAS2_0002  OAS2_0002_MR3  Demented      3      1895   M    R   80    12   \n",
       "10   OAS2_0007  OAS2_0007_MR1  Demented      1         0   M    R   71    16   \n",
       "11   OAS2_0007  OAS2_0007_MR3  Demented      3       518   M    R   73    16   \n",
       "12   OAS2_0007  OAS2_0007_MR4  Demented      4      1281   M    R   75    16   \n",
       "134  OAS2_0063  OAS2_0063_MR1  Demented      1         0   F    R   80    12   \n",
       "135  OAS2_0063  OAS2_0063_MR2  Demented      2       490   F    R   81    12   \n",
       "207  OAS2_0099  OAS2_0099_MR1  Demented      1         0   F    R   80    12   \n",
       "208  OAS2_0099  OAS2_0099_MR2  Demented      2       807   F    R   83    12   \n",
       "237  OAS2_0114  OAS2_0114_MR1  Demented      1         0   F    R   76    12   \n",
       "238  OAS2_0114  OAS2_0114_MR2  Demented      2       570   F    R   78    12   \n",
       "322  OAS2_0160  OAS2_0160_MR1  Demented      1         0   M    R   76    12   \n",
       "323  OAS2_0160  OAS2_0160_MR2  Demented      2       552   M    R   78    12   \n",
       "356  OAS2_0181  OAS2_0181_MR1  Demented      1         0   F    R   74    12   \n",
       "357  OAS2_0181  OAS2_0181_MR2  Demented      2       539   F    R   75    12   \n",
       "358  OAS2_0181  OAS2_0181_MR3  Demented      3      1107   F    R   77    12   \n",
       "359  OAS2_0182  OAS2_0182_MR1  Demented      1         0   M    R   73    12   \n",
       "360  OAS2_0182  OAS2_0182_MR2  Demented      2       776   M    R   75    12   \n",
       "\n",
       "     SES  MMSE  CDR  eTIV   nWBV    ASF  \n",
       "2    NaN  23.0  0.5  1678  0.736  1.046  \n",
       "3    NaN  28.0  0.5  1738  0.713  1.010  \n",
       "4    NaN  22.0  0.5  1698  0.701  1.034  \n",
       "10   NaN  28.0  0.5  1357  0.748  1.293  \n",
       "11   NaN  27.0  1.0  1365  0.727  1.286  \n",
       "12   NaN  27.0  1.0  1372  0.710  1.279  \n",
       "134  NaN  30.0  0.5  1430  0.737  1.228  \n",
       "135  NaN  27.0  0.5  1453  0.721  1.208  \n",
       "207  NaN  27.0  0.5  1475  0.762  1.190  \n",
       "208  NaN  23.0  0.5  1484  0.750  1.183  \n",
       "237  NaN  27.0  0.5  1316  0.727  1.333  \n",
       "238  NaN  27.0  1.0  1309  0.709  1.341  \n",
       "322  NaN  27.0  0.5  1557  0.705  1.127  \n",
       "323  NaN  29.0  1.0  1569  0.704  1.119  \n",
       "356  NaN  26.0  0.5  1171  0.733  1.499  \n",
       "357  NaN   NaN  1.0  1169  0.742  1.501  \n",
       "358  NaN   NaN  1.0  1159  0.733  1.515  \n",
       "359  NaN  23.0  0.5  1661  0.698  1.056  \n",
       "360  NaN  20.0  0.5  1654  0.696  1.061  "
      ]
     },
     "execution_count": 67,
     "metadata": {},
     "output_type": "execute_result"
    }
   ],
   "source": [
    "long_df[(long_df['MMSE'].isnull()) | ( long_df['SES'].isnull())]"
   ]
  },
  {
   "cell_type": "markdown",
   "metadata": {},
   "source": [
    "We can apply imputation techniques such as K-Nearast Neighbors to all data or just a Simple Linear Regression between two highly correlated predictors. Instead, here to fill missing values, for simplicity and since we do not have too many missing values to fill we go with traditional methods."
   ]
  },
  {
   "cell_type": "code",
   "execution_count": 68,
   "metadata": {
    "ExecuteTime": {
     "end_time": "2019-02-07T18:39:54.776324Z",
     "start_time": "2019-02-07T18:39:54.767839Z"
    }
   },
   "outputs": [],
   "source": [
    "# Fill missing values with median as the data is skewed \n",
    "long_df.loc[:, 'MMSE_filled'] = long_df['MMSE'].fillna(long_df['MMSE'].median()).astype('int')\n",
    "\n",
    "# Use mode 'frequent' value to replace missing values here\n",
    "long_df.loc[:, 'SES_filled'] = long_df['SES'].fillna(long_df['SES'].median()).astype('int')"
   ]
  },
  {
   "cell_type": "code",
   "execution_count": 69,
   "metadata": {
    "ExecuteTime": {
     "end_time": "2019-02-07T18:39:55.122867Z",
     "start_time": "2019-02-07T18:39:55.116914Z"
    }
   },
   "outputs": [
    {
     "name": "stdout",
     "output_type": "stream",
     "text": [
      "The total number of missing values at each column : \n",
      "Subject ID      0\n",
      "MRI ID          0\n",
      "Group           0\n",
      "Visit           0\n",
      "MR Delay        0\n",
      "M/F             0\n",
      "Hand            0\n",
      "Age             0\n",
      "EDUC            0\n",
      "SES            19\n",
      "MMSE            2\n",
      "CDR             0\n",
      "eTIV            0\n",
      "nWBV            0\n",
      "ASF             0\n",
      "MMSE_filled     0\n",
      "SES_filled      0\n",
      "dtype: int64\n"
     ]
    }
   ],
   "source": [
    "print('The total number of missing values at each column : \\n' + str( long_df.isnull().sum()))"
   ]
  },
  {
   "cell_type": "markdown",
   "metadata": {},
   "source": [
    "### Remove: Zero Variance Predictor"
   ]
  },
  {
   "cell_type": "code",
   "execution_count": 70,
   "metadata": {
    "ExecuteTime": {
     "end_time": "2019-02-07T18:39:59.697453Z",
     "start_time": "2019-02-07T18:39:59.493484Z"
    }
   },
   "outputs": [
    {
     "name": "stdout",
     "output_type": "stream",
     "text": [
      "The number of unique values in  predictor Hand is:  1\n"
     ]
    },
    {
     "data": {
      "image/png": "[encoded data removed]",
      "text/plain": [
       "<Figure size 432x288 with 1 Axes>"
      ]
     },
     "metadata": {},
     "output_type": "display_data"
    }
   ],
   "source": [
    "print('The number of unique values in  predictor Hand is: ',\n",
    "      long_df['Hand'].nunique())\n",
    "\n",
    "# Create dummy variables to represent Right Handed samples (all of the samples is right handed)\n",
    "x = np.ones((len(long_df['Hand']), 1))\n",
    "\n",
    "# Distplot will throw an error because of a singular matrix so we want to get an exception here\n",
    "try:\n",
    "    sns.distplot(x)\n",
    "except:\n",
    "    pass\n",
    "\n",
    "# Show variance of the x vector\n",
    "plt.hlines(x.var(), xmin=0, xmax=2, color='r',\n",
    "           linestyles='dashed', label='variance')\n",
    "plt.legend();"
   ]
  },
  {
   "cell_type": "code",
   "execution_count": 71,
   "metadata": {
    "ExecuteTime": {
     "end_time": "2019-02-07T18:40:04.188247Z",
     "start_time": "2019-02-07T18:40:04.184672Z"
    }
   },
   "outputs": [],
   "source": [
    "# Drop the predictor Hand and Save the file\n",
    "long_df.drop(columns='Hand', axis=1, inplace=True)"
   ]
  },
  {
   "cell_type": "markdown",
   "metadata": {},
   "source": [
    "> If a predictor has a single unique value we consider this predictor as an uninformative variable which can cause defects on problems in prediction some prediction models. It is better to remove this type of zero-variance predictors from the data."
   ]
  },
  {
   "cell_type": "markdown",
   "metadata": {},
   "source": [
    "> Before we wrap up this section, we need to fix the SES column in order for the values to represent correct information in the model. For example in the original SES column 1 stands for rich people and 5 for low income group, but 1 is lower than 5 so this could mis-lead model. What we want is to get 1 for low icome and 5 for high income group.\n",
    ">\n",
    "> Finally,  we convert categorical variables (Gender) to numeric representations of the values."
   ]
  },
  {
   "cell_type": "code",
   "execution_count": 72,
   "metadata": {
    "ExecuteTime": {
     "end_time": "2019-02-07T18:40:13.336181Z",
     "start_time": "2019-02-07T18:40:13.332109Z"
    }
   },
   "outputs": [],
   "source": [
    "# Use mapping to reverse the order and economical status\n",
    "ses_map = {1:5, 2:4, 3:3, 4:2, 5:1}\n",
    "long_df['SES_filled'] = long_df['SES_filled'].map(ses_map)"
   ]
  },
  {
   "cell_type": "code",
   "execution_count": 73,
   "metadata": {
    "ExecuteTime": {
     "end_time": "2019-02-07T18:40:17.024491Z",
     "start_time": "2019-02-07T18:40:17.020877Z"
    }
   },
   "outputs": [],
   "source": [
    "# Encode Gender column as 0 and 1 for learning models\n",
    "age_map = {'M':0, 'F':1}\n",
    "long_df['M/F'] = long_df['M/F'].map(age_map)"
   ]
  },
  {
   "cell_type": "code",
   "execution_count": 78,
   "metadata": {
    "ExecuteTime": {
     "end_time": "2019-02-07T18:41:31.512019Z",
     "start_time": "2019-02-07T18:41:31.501099Z"
    }
   },
   "outputs": [],
   "source": [
    "df = long_df.copy()\n",
    "# Save final dataset\n",
    "df.to_csv('oasis_long.csv',index=False)"
   ]
  },
  {
   "cell_type": "markdown",
   "metadata": {},
   "source": [
    "[Go To EDA]()"
   ]
  }
 ],
 "metadata": {
  "kernelspec": {
   "display_name": "Python 3",
   "language": "python",
   "name": "python3"
  },
  "toc": {
   "base_numbering": 1,
   "nav_menu": {},
   "number_sections": true,
   "sideBar": true,
   "skip_h1_title": false,
   "title_cell": "Table of Contents",
   "title_sidebar": "Contents",
   "toc_cell": false,
   "toc_position": {},
   "toc_section_display": true,
   "toc_window_display": false
  },
  "varInspector": {
   "cols": {
    "lenName": 16,
    "lenType": 16,
    "lenVar": 40
   },
   "kernels_config": {
    "python": {
     "delete_cmd_postfix": "",
     "delete_cmd_prefix": "del ",
     "library": "var_list.py",
     "varRefreshCmd": "print(var_dic_list())"
    },
    "r": {
     "delete_cmd_postfix": ") ",
     "delete_cmd_prefix": "rm(",
     "library": "var_list.r",
     "varRefreshCmd": "cat(var_dic_list()) "
    }
   },
   "types_to_exclude": [
    "module",
    "function",
    "builtin_function_or_method",
    "instance",
    "_Feature"
   ],
   "window_display": false
  }
 },
 "nbformat": 4,
 "nbformat_minor": 2
}
